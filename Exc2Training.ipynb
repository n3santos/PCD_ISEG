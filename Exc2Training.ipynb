{
 "cells": [
  {
   "cell_type": "code",
   "execution_count": 1,
   "metadata": {},
   "outputs": [],
   "source": [
    "a = {}"
   ]
  },
  {
   "cell_type": "code",
   "execution_count": 2,
   "metadata": {},
   "outputs": [],
   "source": [
    "grade = {}"
   ]
  },
  {
   "cell_type": "code",
   "execution_count": 3,
   "metadata": {},
   "outputs": [],
   "source": [
    "# Create the most suiteble data structures to the data in the next cell.\n",
    "\n",
    "a[1104]=\"Universidade do Porto - Faculdade de Economia\"\n",
    "a[904]=\"Universidade Nova de Lisboa - Faculdade de Economia\"\n",
    "a[1000]=\"Universidade do Minho\"\n",
    "a[6800]=\"ISCTE - Instituto Universitário de Lisboa\"\n",
    "a[300]=\"Universidade de Aveiro\"\n",
    "a[503]=\"Universidade de Coimbra - Faculdade de Economia\"\n",
    "a[1517]=\"Universidade de Lisboa - Instituto Superior de Economia e Gestão\"\n",
    "a[1202]=\"Universidade de Trás-os-Montes e Alto Douro - Escola de Ciências Humanas e Sociais\"\n",
    "a[3117]=\"Instituto Politécnico de Lisboa - Instituto Superior de Contabilidade e Administra\"\n",
    "a[400]=\"Universidade da Beira Interior\"\n",
    "a[604]=\"Universidade de Évora - Escola de Ciências Sociais\"\n",
    "a[3163]=\"Instituto Politécnico de Viana do Castelo - Escola Superior de Tecnologia e Gestão\"\n",
    "a[1308]=\"Universidade da Madeira - Faculdade de Ciências Sociais\"\n",
    "a[3102]=\"Instituto Politécnico de Leiria - Escola Superior de Tecnologia e Gestão\"\n",
    "a[3065]=\"Instituto Politécnico de Coimbra - Escola Superior de Tecnologia e Gestão de Olive\"\n",
    "a[3082]=\"Universidade do Algarve - Escola Superior de Gestão, Hotelaria e Turismo\"\n",
    "a[170]=\"Universidade dos Açores - Faculdade de Economia e Gestão\"\n",
    "a[3043]=\"Instituto Politécnico de Bragança - Escola Superior de Tecnologia e de Gestão de B\"\n",
    "a[3087]=\"Universidade do Algarve - Escola Superior de Gestão, Hotelaria e Turismo (Portimão\"\n",
    "a[3092]=\"Instituto Politécnico da Guarda - Escola Superior de Tecnologia e Gestão\"\n",
    "a[3122]=\"Instituto Politécnico de Portalegre - Escola Superior de Tecnologia e Gestão\"\n",
    "a[3054]=\"Instituto Politécnico de Castelo Branco - Escola Superior de Gestão de Idanha-a-No\"\n",
    "\n",
    "grade[1104]=185.0\n",
    "grade[904]=182.0\n",
    "grade[1000]=176.4\n",
    "grade[6800]=173.5\n",
    "grade[300]=171.8\n",
    "grade[503]=169.0\n",
    "grade[1517]=167.5\n",
    "grade[1202]=157.8\n",
    "grade[3117]=156.1\n",
    "grade[400]=152.0\n",
    "grade[604]=146.4\n",
    "grade[3163]=144.2\n",
    "grade[1308]=143.9\n",
    "grade[3102]=140.0\n",
    "grade[3065]=138.2\n",
    "grade[3082]=133.3\n",
    "grade[170]=133.2\n",
    "grade[3043]=125.4\n",
    "grade[3087]=123.5\n",
    "grade[3092]=112.6\n",
    "grade[3122]=109.7"
   ]
  },
  {
   "cell_type": "code",
   "execution_count": 4,
   "metadata": {},
   "outputs": [],
   "source": [
    "list = [a[1104], a[904], a[1000], a[6800], a[300], a[503], a[1517], a[1202], a[3117], a[400], a[604], a[3163], a[1308], a[3102], a[3065], a[3082], a[170], a[3043], a[3087], a[3092], a[3122], a[3054]]"
   ]
  },
  {
   "cell_type": "code",
   "execution_count": 5,
   "metadata": {},
   "outputs": [
    {
     "name": "stdout",
     "output_type": "stream",
     "text": [
      "['Universidade do Porto - Faculdade de Economia', 'Universidade Nova de Lisboa - Faculdade de Economia', 'Universidade do Minho', 'ISCTE - Instituto Universitário de Lisboa', 'Universidade de Aveiro', 'Universidade de Coimbra - Faculdade de Economia', 'Universidade de Lisboa - Instituto Superior de Economia e Gestão', 'Universidade de Trás-os-Montes e Alto Douro - Escola de Ciências Humanas e Sociais', 'Instituto Politécnico de Lisboa - Instituto Superior de Contabilidade e Administra', 'Universidade da Beira Interior', 'Universidade de Évora - Escola de Ciências Sociais', 'Instituto Politécnico de Viana do Castelo - Escola Superior de Tecnologia e Gestão', 'Universidade da Madeira - Faculdade de Ciências Sociais', 'Instituto Politécnico de Leiria - Escola Superior de Tecnologia e Gestão', 'Instituto Politécnico de Coimbra - Escola Superior de Tecnologia e Gestão de Olive', 'Universidade do Algarve - Escola Superior de Gestão, Hotelaria e Turismo', 'Universidade dos Açores - Faculdade de Economia e Gestão', 'Instituto Politécnico de Bragança - Escola Superior de Tecnologia e de Gestão de B', 'Universidade do Algarve - Escola Superior de Gestão, Hotelaria e Turismo (Portimão', 'Instituto Politécnico da Guarda - Escola Superior de Tecnologia e Gestão', 'Instituto Politécnico de Portalegre - Escola Superior de Tecnologia e Gestão', 'Instituto Politécnico de Castelo Branco - Escola Superior de Gestão de Idanha-a-No']\n"
     ]
    }
   ],
   "source": [
    "print (list)"
   ]
  },
  {
   "cell_type": "code",
   "execution_count": 6,
   "metadata": {},
   "outputs": [],
   "source": [
    "# What is the average grade in gestão"
   ]
  },
  {
   "cell_type": "code",
   "execution_count": 7,
   "metadata": {},
   "outputs": [],
   "source": [
    "gradeslist = [grade[1104],grade[904], grade[1000],grade[6800], grade[300],grade[503], grade[1517], grade[1202], grade[3117], grade[400], grade[604], grade[3163], grade[1308], grade[3102], grade[3065], grade[3082], grade[170], grade[3043],grade[3087], grade[3092], grade[3122]]"
   ]
  },
  {
   "cell_type": "code",
   "execution_count": 8,
   "metadata": {},
   "outputs": [
    {
     "data": {
      "text/plain": [
       "149.59523809523807"
      ]
     },
     "execution_count": 8,
     "metadata": {},
     "output_type": "execute_result"
    }
   ],
   "source": [
    "sum(gradeslist)/len(gradeslist) "
   ]
  },
  {
   "cell_type": "code",
   "execution_count": 9,
   "metadata": {},
   "outputs": [],
   "source": [
    "# What is the maximum grade?"
   ]
  },
  {
   "cell_type": "code",
   "execution_count": 10,
   "metadata": {},
   "outputs": [
    {
     "data": {
      "text/plain": [
       "185.0"
      ]
     },
     "execution_count": 10,
     "metadata": {},
     "output_type": "execute_result"
    }
   ],
   "source": [
    "max (gradeslist)"
   ]
  },
  {
   "cell_type": "code",
   "execution_count": 11,
   "metadata": {},
   "outputs": [],
   "source": [
    "# What is the minimum grade?"
   ]
  },
  {
   "cell_type": "code",
   "execution_count": 12,
   "metadata": {},
   "outputs": [
    {
     "data": {
      "text/plain": [
       "109.7"
      ]
     },
     "execution_count": 12,
     "metadata": {},
     "output_type": "execute_result"
    }
   ],
   "source": [
    "min (gradeslist)"
   ]
  }
 ],
 "metadata": {
  "kernelspec": {
   "display_name": "Python 3",
   "language": "python",
   "name": "python3"
  },
  "language_info": {
   "codemirror_mode": {
    "name": "ipython",
    "version": 3
   },
   "file_extension": ".py",
   "mimetype": "text/x-python",
   "name": "python",
   "nbconvert_exporter": "python",
   "pygments_lexer": "ipython3",
   "version": "3.8.3"
  }
 },
 "nbformat": 4,
 "nbformat_minor": 4
}
