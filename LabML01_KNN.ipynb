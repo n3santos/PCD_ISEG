{
 "cells": [
  {
   "cell_type": "markdown",
   "metadata": {},
   "source": [
    "**LabML01(KNN)**\n",
    "\n",
    "The k-nearest neighbors (KNN) is  easy-to-implement supervised machine learning algorithm that can be used to solve  classification. The KNN algorithm uses 'feature similarity' to predict the values of any new data points. This means that the new point is assigned a value based on how closely it resembles the points in the training set.\n",
    "k in kNN algorithm represents the number of nearest neighbor points which are voting for the new test data’s class.\n",
    "\n",
    "K nearest neighbors or KNN Algorithm is a simple algorithm which uses the entire dataset in its training phase. Whenever a prediction is required for an unseen data instance, it searches through the entire training dataset for k-most similar instances and the data with the most similar instance is finally returned as the prediction.\n",
    "\n",
    "The similarity of the new point and the points in the training set is based on a distance measure. \n",
    "\n",
    "Add comments into the following code."
   ]
  },
  {
   "cell_type": "code",
   "execution_count": 1,
   "metadata": {},
   "outputs": [],
   "source": [
    "# invocar pandas para trabalhar dataframes\n",
    "import pandas as pd"
   ]
  },
  {
   "cell_type": "code",
   "execution_count": 2,
   "metadata": {},
   "outputs": [],
   "source": [
    "# guardar um string na variável URL\n",
    "url='https://raw.githubusercontent.com/masterfloss/data/main/jogadores.csv'\n",
    "df=pd.read_csv(url,sep=\";\")"
   ]
  },
  {
   "cell_type": "code",
   "execution_count": 3,
   "metadata": {},
   "outputs": [
    {
     "data": {
      "text/html": [
       "<div>\n",
       "<style scoped>\n",
       "    .dataframe tbody tr th:only-of-type {\n",
       "        vertical-align: middle;\n",
       "    }\n",
       "\n",
       "    .dataframe tbody tr th {\n",
       "        vertical-align: top;\n",
       "    }\n",
       "\n",
       "    .dataframe thead th {\n",
       "        text-align: right;\n",
       "    }\n",
       "</style>\n",
       "<table border=\"1\" class=\"dataframe\">\n",
       "  <thead>\n",
       "    <tr style=\"text-align: right;\">\n",
       "      <th></th>\n",
       "      <th>Epoca</th>\n",
       "      <th>Idade</th>\n",
       "      <th>Altura</th>\n",
       "      <th>Minutos</th>\n",
       "      <th>Ser Transferido</th>\n",
       "      <th>Valor de Mercado</th>\n",
       "      <th>Posicao</th>\n",
       "    </tr>\n",
       "  </thead>\n",
       "  <tbody>\n",
       "    <tr>\n",
       "      <th>0</th>\n",
       "      <td>2015</td>\n",
       "      <td>27</td>\n",
       "      <td>1.9</td>\n",
       "      <td>4050</td>\n",
       "      <td>0</td>\n",
       "      <td>18.0</td>\n",
       "      <td>GK</td>\n",
       "    </tr>\n",
       "    <tr>\n",
       "      <th>1</th>\n",
       "      <td>2016</td>\n",
       "      <td>28</td>\n",
       "      <td>1.9</td>\n",
       "      <td>4126</td>\n",
       "      <td>0</td>\n",
       "      <td>14.0</td>\n",
       "      <td>GK</td>\n",
       "    </tr>\n",
       "    <tr>\n",
       "      <th>2</th>\n",
       "      <td>2017</td>\n",
       "      <td>29</td>\n",
       "      <td>1.9</td>\n",
       "      <td>3420</td>\n",
       "      <td>0</td>\n",
       "      <td>16.0</td>\n",
       "      <td>GK</td>\n",
       "    </tr>\n",
       "    <tr>\n",
       "      <th>3</th>\n",
       "      <td>2018</td>\n",
       "      <td>30</td>\n",
       "      <td>1.9</td>\n",
       "      <td>5100</td>\n",
       "      <td>1</td>\n",
       "      <td>16.0</td>\n",
       "      <td>GK</td>\n",
       "    </tr>\n",
       "    <tr>\n",
       "      <th>4</th>\n",
       "      <td>2019</td>\n",
       "      <td>31</td>\n",
       "      <td>1.9</td>\n",
       "      <td>3330</td>\n",
       "      <td>0</td>\n",
       "      <td>20.0</td>\n",
       "      <td>GK</td>\n",
       "    </tr>\n",
       "  </tbody>\n",
       "</table>\n",
       "</div>"
      ],
      "text/plain": [
       "   Epoca  Idade  Altura  Minutos  Ser Transferido  Valor de Mercado Posicao\n",
       "0   2015     27     1.9     4050                0              18.0      GK\n",
       "1   2016     28     1.9     4126                0              14.0      GK\n",
       "2   2017     29     1.9     3420                0              16.0      GK\n",
       "3   2018     30     1.9     5100                1              16.0      GK\n",
       "4   2019     31     1.9     3330                0              20.0      GK"
      ]
     },
     "execution_count": 3,
     "metadata": {},
     "output_type": "execute_result"
    }
   ],
   "source": [
    "# mostra as cinco primeiras linhas da tabela por default \"por omissão\"\n",
    "# objetivo: saber os dados que foram importados e que fazem parte da minha\n",
    "df.head()"
   ]
  },
  {
   "cell_type": "code",
   "execution_count": 4,
   "metadata": {},
   "outputs": [],
   "source": [
    "# criar um novo dataframe (ou tabela) com base no dataframe inicial\n",
    "X1=df.loc[:,['Idade','Altura','Minutos','Valor de Mercado']]"
   ]
  },
  {
   "cell_type": "code",
   "execution_count": 5,
   "metadata": {},
   "outputs": [],
   "source": [
    "# nota: os valores têm escalas diferente por isso é preciso fazer um \"scale\", para passar tudo para a mesma escala; é preciso standardizar os valores\n",
    "from sklearn.preprocessing import StandardScaler\n",
    "standardizer=StandardScaler()\n",
    "#X1Stand=standardizer.fit_transform(X1)\n",
    "scaler=standardizer.fit(X1)"
   ]
  },
  {
   "cell_type": "code",
   "execution_count": 6,
   "metadata": {},
   "outputs": [],
   "source": [
    "# standardizar os valores e armazená-los no array\n",
    "# vai aplicar a média e desvio padrão que tinha sido calculada\n",
    "X1Stand=scaler.transform(X1)"
   ]
  },
  {
   "cell_type": "code",
   "execution_count": 7,
   "metadata": {},
   "outputs": [
    {
     "data": {
      "text/plain": [
       "numpy.ndarray"
      ]
     },
     "execution_count": 7,
     "metadata": {},
     "output_type": "execute_result"
    }
   ],
   "source": [
    "type (X1Stand)"
   ]
  },
  {
   "cell_type": "code",
   "execution_count": 8,
   "metadata": {},
   "outputs": [
    {
     "data": {
      "text/html": [
       "<div>\n",
       "<style scoped>\n",
       "    .dataframe tbody tr th:only-of-type {\n",
       "        vertical-align: middle;\n",
       "    }\n",
       "\n",
       "    .dataframe tbody tr th {\n",
       "        vertical-align: top;\n",
       "    }\n",
       "\n",
       "    .dataframe thead th {\n",
       "        text-align: right;\n",
       "    }\n",
       "</style>\n",
       "<table border=\"1\" class=\"dataframe\">\n",
       "  <thead>\n",
       "    <tr style=\"text-align: right;\">\n",
       "      <th></th>\n",
       "      <th>Idade</th>\n",
       "      <th>Altura</th>\n",
       "      <th>Minutos</th>\n",
       "      <th>Valor de Mercado</th>\n",
       "    </tr>\n",
       "  </thead>\n",
       "  <tbody>\n",
       "    <tr>\n",
       "      <th>0</th>\n",
       "      <td>27</td>\n",
       "      <td>1.9</td>\n",
       "      <td>4050</td>\n",
       "      <td>18.0</td>\n",
       "    </tr>\n",
       "    <tr>\n",
       "      <th>1</th>\n",
       "      <td>28</td>\n",
       "      <td>1.9</td>\n",
       "      <td>4126</td>\n",
       "      <td>14.0</td>\n",
       "    </tr>\n",
       "    <tr>\n",
       "      <th>2</th>\n",
       "      <td>29</td>\n",
       "      <td>1.9</td>\n",
       "      <td>3420</td>\n",
       "      <td>16.0</td>\n",
       "    </tr>\n",
       "    <tr>\n",
       "      <th>3</th>\n",
       "      <td>30</td>\n",
       "      <td>1.9</td>\n",
       "      <td>5100</td>\n",
       "      <td>16.0</td>\n",
       "    </tr>\n",
       "    <tr>\n",
       "      <th>4</th>\n",
       "      <td>31</td>\n",
       "      <td>1.9</td>\n",
       "      <td>3330</td>\n",
       "      <td>20.0</td>\n",
       "    </tr>\n",
       "  </tbody>\n",
       "</table>\n",
       "</div>"
      ],
      "text/plain": [
       "   Idade  Altura  Minutos  Valor de Mercado\n",
       "0     27     1.9     4050              18.0\n",
       "1     28     1.9     4126              14.0\n",
       "2     29     1.9     3420              16.0\n",
       "3     30     1.9     5100              16.0\n",
       "4     31     1.9     3330              20.0"
      ]
     },
     "execution_count": 8,
     "metadata": {},
     "output_type": "execute_result"
    }
   ],
   "source": [
    "# serve para ver os dados que eu recolhi\n",
    "X1.head()"
   ]
  },
  {
   "cell_type": "code",
   "execution_count": 9,
   "metadata": {},
   "outputs": [
    {
     "data": {
      "text/html": [
       "<div>\n",
       "<style scoped>\n",
       "    .dataframe tbody tr th:only-of-type {\n",
       "        vertical-align: middle;\n",
       "    }\n",
       "\n",
       "    .dataframe tbody tr th {\n",
       "        vertical-align: top;\n",
       "    }\n",
       "\n",
       "    .dataframe thead th {\n",
       "        text-align: right;\n",
       "    }\n",
       "</style>\n",
       "<table border=\"1\" class=\"dataframe\">\n",
       "  <thead>\n",
       "    <tr style=\"text-align: right;\">\n",
       "      <th></th>\n",
       "      <th>pos_ATA</th>\n",
       "      <th>pos_DEF</th>\n",
       "      <th>pos_GK</th>\n",
       "      <th>pos_MED</th>\n",
       "    </tr>\n",
       "  </thead>\n",
       "  <tbody>\n",
       "    <tr>\n",
       "      <th>0</th>\n",
       "      <td>0</td>\n",
       "      <td>0</td>\n",
       "      <td>1</td>\n",
       "      <td>0</td>\n",
       "    </tr>\n",
       "    <tr>\n",
       "      <th>1</th>\n",
       "      <td>0</td>\n",
       "      <td>0</td>\n",
       "      <td>1</td>\n",
       "      <td>0</td>\n",
       "    </tr>\n",
       "    <tr>\n",
       "      <th>2</th>\n",
       "      <td>0</td>\n",
       "      <td>0</td>\n",
       "      <td>1</td>\n",
       "      <td>0</td>\n",
       "    </tr>\n",
       "    <tr>\n",
       "      <th>3</th>\n",
       "      <td>0</td>\n",
       "      <td>0</td>\n",
       "      <td>1</td>\n",
       "      <td>0</td>\n",
       "    </tr>\n",
       "    <tr>\n",
       "      <th>4</th>\n",
       "      <td>0</td>\n",
       "      <td>0</td>\n",
       "      <td>1</td>\n",
       "      <td>0</td>\n",
       "    </tr>\n",
       "  </tbody>\n",
       "</table>\n",
       "</div>"
      ],
      "text/plain": [
       "   pos_ATA  pos_DEF  pos_GK  pos_MED\n",
       "0        0        0       1        0\n",
       "1        0        0       1        0\n",
       "2        0        0       1        0\n",
       "3        0        0       1        0\n",
       "4        0        0       1        0"
      ]
     },
     "execution_count": 9,
     "metadata": {},
     "output_type": "execute_result"
    }
   ],
   "source": [
    "# converter em alguma coisa, ié, cada posição de jogo passou a ser um número, GK = 0, etc...\n",
    "# .head() serve para \"juntar\" os valores\n",
    "posi=pd.get_dummies(df['Posicao'], prefix='pos')\n",
    "posi.head()"
   ]
  },
  {
   "cell_type": "code",
   "execution_count": 10,
   "metadata": {},
   "outputs": [],
   "source": [
    "# processo de juntar um conjunto de elemtentos\n",
    "# tuple de tuples em que... o objetivo é juntar todas os dados das diversas colunas numa mesma estrutura \n",
    "XArray=zip(posi['pos_ATA'],posi['pos_DEF'],posi['pos_GK'],posi['pos_MED'],X1Stand[:,0],X1Stand[:,1],X1Stand[:,2],X1Stand[:,3])"
   ]
  },
  {
   "cell_type": "code",
   "execution_count": 11,
   "metadata": {},
   "outputs": [
    {
     "data": {
      "text/plain": [
       "zip"
      ]
     },
     "execution_count": 11,
     "metadata": {},
     "output_type": "execute_result"
    }
   ],
   "source": [
    "type (XArray)"
   ]
  },
  {
   "cell_type": "code",
   "execution_count": 12,
   "metadata": {
    "scrolled": true
   },
   "outputs": [
    {
     "name": "stdout",
     "output_type": "stream",
     "text": [
      "<zip object at 0x0000011B2986C640>\n"
     ]
    }
   ],
   "source": [
    "print (XArray)"
   ]
  },
  {
   "cell_type": "code",
   "execution_count": 13,
   "metadata": {},
   "outputs": [],
   "source": [
    "# converter o objeto zip numa lista\n",
    "features=list(XArray)"
   ]
  },
  {
   "cell_type": "code",
   "execution_count": 14,
   "metadata": {},
   "outputs": [],
   "source": [
    "# Features"
   ]
  },
  {
   "cell_type": "code",
   "execution_count": 15,
   "metadata": {},
   "outputs": [
    {
     "data": {
      "text/plain": [
       "KNeighborsClassifier(n_neighbors=3)"
      ]
     },
     "execution_count": 15,
     "metadata": {},
     "output_type": "execute_result"
    }
   ],
   "source": [
    "#\n",
    "from sklearn.neighbors import KNeighborsClassifier\n",
    "#\n",
    "model = KNeighborsClassifier(n_neighbors=3)\n",
    "#\n",
    "model.fit(features,df['Ser Transferido'])"
   ]
  },
  {
   "cell_type": "code",
   "execution_count": 16,
   "metadata": {},
   "outputs": [
    {
     "data": {
      "text/plain": [
       "array([[3.0697833 , 1.43018826, 3.02329407, 0.89135565]])"
      ]
     },
     "execution_count": 16,
     "metadata": {},
     "output_type": "execute_result"
    }
   ],
   "source": [
    "import numpy as np\n",
    "# Goalkeeper, 30 years old, 1.90 m, 5100 minutes, market Value=16 ?\n",
    "# não posso aplicar estes dados diretamente, tenho de standardizar (que é o OUT que nos vai ser \"revelado\")\n",
    "newdata=np.array([[30,1.90,5100,16]])\n",
    "newvalues=scaler.transform(newdata)\n",
    "newvalues"
   ]
  },
  {
   "cell_type": "code",
   "execution_count": 17,
   "metadata": {},
   "outputs": [
    {
     "data": {
      "text/plain": [
       "[array([3.0697833 , 1.43018826, 3.02329407, 0.89135565])]"
      ]
     },
     "execution_count": 17,
     "metadata": {},
     "output_type": "execute_result"
    }
   ],
   "source": [
    "#\n",
    "list(newvalues)"
   ]
  },
  {
   "cell_type": "code",
   "execution_count": 18,
   "metadata": {},
   "outputs": [],
   "source": [
    "# se standardizasse tudo ao início não tinha agora a complicação de ter de \"alterar\" tudo durante a realização do LAB, mas não faz muito sentido fazer standardização pela facto de haver valores que já são 0 ou 1\n",
    "teste=np.concatenate((np.array([[0,0,1,0]]),newvalues), axis=1)"
   ]
  },
  {
   "cell_type": "code",
   "execution_count": 19,
   "metadata": {},
   "outputs": [
    {
     "data": {
      "text/plain": [
       "array([[0.        , 0.        , 1.        , 0.        , 3.0697833 ,\n",
       "        1.43018826, 3.02329407, 0.89135565]])"
      ]
     },
     "execution_count": 19,
     "metadata": {},
     "output_type": "execute_result"
    }
   ],
   "source": [
    "# podemos juntar os dois arrays através da concatenação\n",
    "teste"
   ]
  },
  {
   "cell_type": "code",
   "execution_count": 20,
   "metadata": {},
   "outputs": [
    {
     "name": "stdout",
     "output_type": "stream",
     "text": [
      "[0]\n"
     ]
    }
   ],
   "source": [
    "# buscar o modelo e utilizar \"predict\"\n",
    "predicted = model.predict(teste) \n",
    "print(predicted)"
   ]
  },
  {
   "cell_type": "markdown",
   "metadata": {},
   "source": [
    "Now let split the sample in training and test..."
   ]
  },
  {
   "cell_type": "code",
   "execution_count": 21,
   "metadata": {},
   "outputs": [],
   "source": [
    "# vou dvididr os dados; dizer que uns vão para treino os outros para teste e divido-os em 70/30\n",
    "from sklearn.model_selection import train_test_split\n",
    "X_train, X_test, y_train, y_test = train_test_split(features, df['Ser Transferido'], test_size=0.3)"
   ]
  },
  {
   "cell_type": "code",
   "execution_count": 22,
   "metadata": {},
   "outputs": [],
   "source": [
    "#\n",
    "from sklearn.neighbors import KNeighborsClassifier\n",
    "knn = KNeighborsClassifier(n_neighbors=5)\n",
    "knn.fit(X_train, y_train)\n",
    "y_pred = knn.predict(X_test)"
   ]
  },
  {
   "cell_type": "code",
   "execution_count": 23,
   "metadata": {},
   "outputs": [
    {
     "name": "stdout",
     "output_type": "stream",
     "text": [
      "Accuracy: 0.5977011494252874\n"
     ]
    }
   ],
   "source": [
    "# ver as diferenças entre o valor real e o valor previsível do modelo\n",
    "from sklearn import metrics\n",
    "print(\"Accuracy:\",metrics.accuracy_score(y_test, y_pred))"
   ]
  }
 ],
 "metadata": {
  "kernelspec": {
   "display_name": "Python 3",
   "language": "python",
   "name": "python3"
  },
  "language_info": {
   "codemirror_mode": {
    "name": "ipython",
    "version": 3
   },
   "file_extension": ".py",
   "mimetype": "text/x-python",
   "name": "python",
   "nbconvert_exporter": "python",
   "pygments_lexer": "ipython3",
   "version": "3.8.3"
  }
 },
 "nbformat": 4,
 "nbformat_minor": 2
}
